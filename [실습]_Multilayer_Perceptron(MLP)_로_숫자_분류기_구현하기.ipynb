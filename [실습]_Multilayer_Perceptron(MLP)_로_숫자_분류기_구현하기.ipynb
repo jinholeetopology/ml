{
  "nbformat": 4,
  "nbformat_minor": 0,
  "metadata": {
    "colab": {
      "name": "[실습] Multilayer Perceptron(MLP) 로 숫자 분류기 구현하기",
      "version": "0.3.2",
      "provenance": [],
      "include_colab_link": true
    },
    "kernelspec": {
      "name": "python3",
      "display_name": "Python 3"
    }
  },
  "cells": [
    {
      "cell_type": "markdown",
      "metadata": {
        "id": "view-in-github",
        "colab_type": "text"
      },
      "source": [
        "<a href=\"https://colab.research.google.com/github/jinholeetopology/ml/blob/master/[%EC%8B%A4%EC%8A%B5]_Multilayer_Perceptron(MLP)_%EB%A1%9C_%EC%88%AB%EC%9E%90_%EB%B6%84%EB%A5%98%EA%B8%B0_%EA%B5%AC%ED%98%84%ED%95%98%EA%B8%B0.ipynb\" target=\"_parent\"><img src=\"https://colab.research.google.com/assets/colab-badge.svg\" alt=\"Open In Colab\"/></a>"
      ]
    },
    {
      "metadata": {
        "id": "OkC0FDrWVnGu",
        "colab_type": "code",
        "colab": {
          "base_uri": "https://localhost:8080/",
          "height": 53
        },
        "outputId": "65131957-a1ff-474a-f3bd-b2a2cf315838"
      },
      "cell_type": "code",
      "source": [
        "import numpy as np\n",
        "import tensorflow as tf\n",
        "from tensorflow.examples.tutorials.mnist import input_data\n",
        "print(\"Current TF version is [%s]\" % (tf.__version__))\n",
        "print(\"Packages loaded\")"
      ],
      "execution_count": 2,
      "outputs": [
        {
          "output_type": "stream",
          "text": [
            "Current TF version is [1.12.0]\n",
            "Packages loaded\n"
          ],
          "name": "stdout"
        }
      ]
    },
    {
      "metadata": {
        "id": "w_2wSGIbWAJ7",
        "colab_type": "code",
        "colab": {
          "base_uri": "https://localhost:8080/",
          "height": 433
        },
        "outputId": "c4175b5d-afa7-4e94-8b6b-321a8a03093c"
      },
      "cell_type": "code",
      "source": [
        "mnist = input_data.read_data_sets('data/', one_hot = True)"
      ],
      "execution_count": 3,
      "outputs": [
        {
          "output_type": "stream",
          "text": [
            "WARNING:tensorflow:From <ipython-input-3-01027ab31bc0>:1: read_data_sets (from tensorflow.contrib.learn.python.learn.datasets.mnist) is deprecated and will be removed in a future version.\n",
            "Instructions for updating:\n",
            "Please use alternatives such as official/mnist/dataset.py from tensorflow/models.\n",
            "WARNING:tensorflow:From /usr/local/lib/python3.6/dist-packages/tensorflow/contrib/learn/python/learn/datasets/mnist.py:260: maybe_download (from tensorflow.contrib.learn.python.learn.datasets.base) is deprecated and will be removed in a future version.\n",
            "Instructions for updating:\n",
            "Please write your own downloading logic.\n",
            "WARNING:tensorflow:From /usr/local/lib/python3.6/dist-packages/tensorflow/contrib/learn/python/learn/datasets/mnist.py:262: extract_images (from tensorflow.contrib.learn.python.learn.datasets.mnist) is deprecated and will be removed in a future version.\n",
            "Instructions for updating:\n",
            "Please use tf.data to implement this functionality.\n",
            "Extracting data/train-images-idx3-ubyte.gz\n",
            "WARNING:tensorflow:From /usr/local/lib/python3.6/dist-packages/tensorflow/contrib/learn/python/learn/datasets/mnist.py:267: extract_labels (from tensorflow.contrib.learn.python.learn.datasets.mnist) is deprecated and will be removed in a future version.\n",
            "Instructions for updating:\n",
            "Please use tf.data to implement this functionality.\n",
            "Extracting data/train-labels-idx1-ubyte.gz\n",
            "WARNING:tensorflow:From /usr/local/lib/python3.6/dist-packages/tensorflow/contrib/learn/python/learn/datasets/mnist.py:110: dense_to_one_hot (from tensorflow.contrib.learn.python.learn.datasets.mnist) is deprecated and will be removed in a future version.\n",
            "Instructions for updating:\n",
            "Please use tf.one_hot on tensors.\n",
            "Extracting data/t10k-images-idx3-ubyte.gz\n",
            "Extracting data/t10k-labels-idx1-ubyte.gz\n",
            "WARNING:tensorflow:From /usr/local/lib/python3.6/dist-packages/tensorflow/contrib/learn/python/learn/datasets/mnist.py:290: DataSet.__init__ (from tensorflow.contrib.learn.python.learn.datasets.mnist) is deprecated and will be removed in a future version.\n",
            "Instructions for updating:\n",
            "Please use alternatives such as official/mnist/dataset.py from tensorflow/models.\n"
          ],
          "name": "stdout"
        }
      ]
    },
    {
      "metadata": {
        "id": "KhuuO5uMWR_i",
        "colab_type": "code",
        "colab": {
          "base_uri": "https://localhost:8080/",
          "height": 35
        },
        "outputId": "8e1560c6-b781-43e8-dae3-8747ff0a16b4"
      },
      "cell_type": "code",
      "source": [
        "# Input topologies\n",
        "\n",
        "n_hidden_1 = 256\n",
        "n_hidden_2 = 128\n",
        "n_input    = 784\n",
        "n_classes  = 10\n",
        "\n",
        "# Input and Ouputs\n",
        "\n",
        "x = tf.placeholder(\"float\", [None, n_input])\n",
        "y = tf.placeholder(\"float\", [None, n_classes])\n",
        "\n",
        "# Network parameters\n",
        "\n",
        "stddev = 0.1\n",
        "weights = {\n",
        "    'h1' : tf.Variable(tf.random_normal([n_input, n_hidden_1], stddev=stddev)),\n",
        "    'h2' : tf.Variable(tf.random_normal([n_hidden_1, n_hidden_2], stddev=stddev)),\n",
        "    'out': tf.Variable(tf.random_normal([n_hidden_2, n_classes], stddev=stddev)),\n",
        "}\n",
        "biases = {\n",
        "    'b1' : tf.Variable(tf.random_normal([n_hidden_1])),\n",
        "    'b2' : tf.Variable(tf.random_normal([n_hidden_2])),\n",
        "    'out': tf.Variable(tf.random_normal([n_classes]))\n",
        "}\n",
        "print(\"Network Ready\")"
      ],
      "execution_count": 6,
      "outputs": [
        {
          "output_type": "stream",
          "text": [
            "Network Ready\n"
          ],
          "name": "stdout"
        }
      ]
    },
    {
      "metadata": {
        "id": "h6RsVYNiXwuo",
        "colab_type": "code",
        "colab": {
          "base_uri": "https://localhost:8080/",
          "height": 35
        },
        "outputId": "67c309cc-a7c7-4e85-d00c-64cef48b858f"
      },
      "cell_type": "code",
      "source": [
        "def multilayer_perceptron(_X, _weights, _biases):\n",
        "  layer_1 = tf.nn.sigmoid(tf.add(tf.matmul(_X, _weights['h1']), _biases['b1']))\n",
        "  layer_2 = tf.nn.sigmoid(tf.add(tf.matmul(layer_1, _weights['h2']), _biases['b2']))\n",
        "  return (tf.matmul(layer_2, _weights['out']) + _biases['out'])\n",
        "\n",
        "# Prediction\n",
        "pred = multilayer_perceptron(x, weights, biases)\n",
        "\n",
        "# Loss and Optimizer\n",
        "cost = tf.reduce_mean(tf.nn.softmax_cross_entropy_with_logits(labels=y, logits=pred))\n",
        "optm = tf.train.AdamOptimizer(learning_rate=0.001).minimize(cost)\n",
        "corr = tf.equal(tf.argmax(pred,1), tf.argmax(y,1))\n",
        "accr = tf.reduce_mean(tf.cast(corr, \"float\"))\n",
        "\n",
        "# Initializer\n",
        "init = tf.global_variables_initializer()\n",
        "print(\"Functions Ready\")"
      ],
      "execution_count": 14,
      "outputs": [
        {
          "output_type": "stream",
          "text": [
            "Functions Ready\n"
          ],
          "name": "stdout"
        }
      ]
    },
    {
      "metadata": {
        "id": "HsTjUicKZbpY",
        "colab_type": "code",
        "colab": {
          "base_uri": "https://localhost:8080/",
          "height": 305
        },
        "outputId": "1243bdf0-a55e-4a86-a4de-68ce6d3982b9"
      },
      "cell_type": "code",
      "source": [
        "# Parameters\n",
        "training_epochs = 20\n",
        "batch_size      = 100\n",
        "display_step    = 4\n",
        "\n",
        "# Launch the Graph\n",
        "sess = tf.Session()\n",
        "sess.run(init)\n",
        "\n",
        "# Optimizer\n",
        "for epoch in range(training_epochs):\n",
        "  avg_cost = 0.\n",
        "  total_batch = int(mnist.train.num_examples/batch_size)\n",
        "  \n",
        "  # Iteration\n",
        "  for i in range(total_batch):\n",
        "    batch_xs, batch_ys = mnist.train.next_batch(batch_size)\n",
        "    feeds = {x:batch_xs, y:batch_ys}\n",
        "    sess.run(optm, feed_dict=feeds)\n",
        "    avg_cost += sess.run(cost, feed_dict=feeds)\n",
        "  avg_cost = avg_cost / total_batch\n",
        "  \n",
        "  # Display\n",
        "  if (epoch+1) % display_step == 0:\n",
        "    print(\"Epoch: [%d/%d] cost: [%f]\" % (epoch, training_epochs, avg_cost))\n",
        "    feeds = {x:batch_xs, y:batch_ys}\n",
        "    train_acc = sess.run(accr, feed_dict=feeds)\n",
        "    print(\"Train accuracy: [%f]\" % (train_acc))\n",
        "    feeds = {x:mnist.test.images, y:mnist.test.labels}\n",
        "    test_acc = sess.run(accr, feed_dict=feeds)\n",
        "    print(\"Test accuracy: [%f]\" % (test_acc))\n",
        "print(\"Optimization finished\")    "
      ],
      "execution_count": 18,
      "outputs": [
        {
          "output_type": "stream",
          "text": [
            "Epoch: [3/20] cost: [0.115636]\n",
            "Train accuracy: [1.000000]\n",
            "Test accuracy: [0.963800]\n",
            "Epoch: [7/20] cost: [0.045605]\n",
            "Train accuracy: [0.990000]\n",
            "Test accuracy: [0.976100]\n",
            "Epoch: [11/20] cost: [0.018732]\n",
            "Train accuracy: [1.000000]\n",
            "Test accuracy: [0.979000]\n",
            "Epoch: [15/20] cost: [0.006976]\n",
            "Train accuracy: [1.000000]\n",
            "Test accuracy: [0.977900]\n",
            "Epoch: [19/20] cost: [0.002034]\n",
            "Train accuracy: [1.000000]\n",
            "Test accuracy: [0.981300]\n",
            "Optimization finished\n"
          ],
          "name": "stdout"
        }
      ]
    },
    {
      "metadata": {
        "id": "KnAZNFb1cXY1",
        "colab_type": "code",
        "colab": {}
      },
      "cell_type": "code",
      "source": [
        ""
      ],
      "execution_count": 0,
      "outputs": []
    }
  ]
}