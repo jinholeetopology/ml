{
  "nbformat": 4,
  "nbformat_minor": 0,
  "metadata": {
    "colab": {
      "name": "[실습] Logistic Regression으로 숫자 분류기를 구현하기",
      "version": "0.3.2",
      "provenance": [],
      "include_colab_link": true
    },
    "kernelspec": {
      "name": "python3",
      "display_name": "Python 3"
    }
  },
  "cells": [
    {
      "cell_type": "markdown",
      "metadata": {
        "id": "view-in-github",
        "colab_type": "text"
      },
      "source": [
        "<a href=\"https://colab.research.google.com/github/jinholeetopology/ml/blob/master/[%EC%8B%A4%EC%8A%B5]_Logistic_Regression%EC%9C%BC%EB%A1%9C_%EC%88%AB%EC%9E%90_%EB%B6%84%EB%A5%98%EA%B8%B0%EB%A5%BC_%EA%B5%AC%ED%98%84%ED%95%98%EA%B8%B0.ipynb\" target=\"_parent\"><img src=\"https://colab.research.google.com/assets/colab-badge.svg\" alt=\"Open In Colab\"/></a>"
      ]
    },
    {
      "metadata": {
        "id": "RUd774tpLDGQ",
        "colab_type": "text"
      },
      "cell_type": "markdown",
      "source": [
        "## Logistic regression with MNIST"
      ]
    },
    {
      "metadata": {
        "id": "4Kl2g5nKJ5PK",
        "colab_type": "code",
        "outputId": "4210244e-687b-40b8-d57d-bdf1d32c951c",
        "colab": {
          "base_uri": "https://localhost:8080/",
          "height": 35
        }
      },
      "cell_type": "code",
      "source": [
        "import numpy as np\n",
        "import tensorflow as tf\n",
        "import matplotlib.pyplot as plt\n",
        "from tensorflow.examples.tutorials.mnist import input_data\n",
        "print(\"packages loaded\")"
      ],
      "execution_count": 2,
      "outputs": [
        {
          "output_type": "stream",
          "text": [
            "packages loaded\n"
          ],
          "name": "stdout"
        }
      ]
    },
    {
      "metadata": {
        "id": "cpfFOVW3JbQa",
        "colab_type": "code",
        "colab": {
          "base_uri": "https://localhost:8080/",
          "height": 35
        },
        "outputId": "3da6a426-85e2-4d85-f4d2-f3a4f667be05"
      },
      "cell_type": "code",
      "source": [
        "sess = tf.Session()\n",
        "print('OPEN SESSION')"
      ],
      "execution_count": 3,
      "outputs": [
        {
          "output_type": "stream",
          "text": [
            "OPEN SESSION\n"
          ],
          "name": "stdout"
        }
      ]
    },
    {
      "metadata": {
        "id": "LPyB1YWLLLEb",
        "colab_type": "text"
      },
      "cell_type": "markdown",
      "source": [
        "## Download and extract MNIST dataset"
      ]
    },
    {
      "metadata": {
        "id": "O424D1mpKuXR",
        "colab_type": "code",
        "outputId": "74c358cf-75a6-486b-878e-bcb4dc01e0f7",
        "colab": {
          "base_uri": "https://localhost:8080/",
          "height": 107
        }
      },
      "cell_type": "code",
      "source": [
        "mnist      = input_data.read_data_sets('data/',one_hot = True)\n",
        "training   = mnist.train.images\n",
        "trainlabel = mnist.train.labels\n",
        "testing    = mnist.test.images\n",
        "testlabel  = mnist.test.labels\n",
        "print(\"MNIST loaded\")"
      ],
      "execution_count": 21,
      "outputs": [
        {
          "output_type": "stream",
          "text": [
            "Extracting data/train-images-idx3-ubyte.gz\n",
            "Extracting data/train-labels-idx1-ubyte.gz\n",
            "Extracting data/t10k-images-idx3-ubyte.gz\n",
            "Extracting data/t10k-labels-idx1-ubyte.gz\n",
            "MNIST loaded\n"
          ],
          "name": "stdout"
        }
      ]
    },
    {
      "metadata": {
        "id": "jCxC018fQVaM",
        "colab_type": "text"
      },
      "cell_type": "markdown",
      "source": [
        "## Create tensor graph for Logistic regression"
      ]
    },
    {
      "metadata": {
        "id": "MdXAtL4-Lkx6",
        "colab_type": "code",
        "colab": {}
      },
      "cell_type": "code",
      "source": [
        "x = tf.placeholder(\"float\", [None, 784])\n",
        "y = tf.placeholder(\"float\", [None, 10])\n",
        "W = tf.Variable(tf.zeros([784,10]))\n",
        "b = tf.Variable(tf.zeros([10]))\n",
        "\n",
        "# Logistic regression model\n",
        "actv = tf.nn.softmax(tf.matmul(x,W) + b) # 행렬 x와 W 를 곱해서, b 를 더한 결과는 [1,10] 행렬이 되는데 이것을 softmax 함수로 보낸 결과\n",
        "\n",
        "# Cost function\n",
        "cost = tf.reduce_mean(-tf.reduce_sum(y*tf.log(actv), reduction_indices = 1)) # axis 의 옛날 이름\n",
        "\n",
        "# Optimizer\n",
        "learning_rate = 0.01\n",
        "optm = tf.train.GradientDescentOptimizer(learning_rate).minimize(cost) # gradient descent 를 이용하여 cost 를 minimize 하는 방향으로 학습"
      ],
      "execution_count": 0,
      "outputs": []
    },
    {
      "metadata": {
        "id": "11T1IzztRiZH",
        "colab_type": "text"
      },
      "cell_type": "markdown",
      "source": [
        "## tf.reduce_mean 정리"
      ]
    },
    {
      "metadata": {
        "id": "owXzF0avLyMz",
        "colab_type": "code",
        "colab": {
          "base_uri": "https://localhost:8080/",
          "height": 71
        },
        "outputId": "ba245083-da8a-44e9-c2dd-18d2677357dd"
      },
      "cell_type": "code",
      "source": [
        "# tf.reduce_mean 에서 reduction_indices = 1 의미\n",
        " # 1. reduction_indices 는 axis 의 옛날 이름이다(tf 공식 홈페이지 내용 : reduction_indices: The old (deprecated) name for axis)\n",
        "\n",
        "\n",
        "x1 = tf.constant([[ 1., 2.], [3., 4.]])\n",
        "print(sess.run(tf.reduce_mean(x1)))\n",
        "print(sess.run(tf.reduce_mean(x1,0))) # 0 은 열마다 평균을 의미. 즉, 1 과 3 의 평균이므로 2, 2 와 4의 평균 3 이 나옴\n",
        "print(sess.run(tf.reduce_mean(x1,1))) # 1 은 열마다 평균을 의미. 즉, 1 과 2 의 평균이므로 1.5, 3 와 4의 평균 3.5 가 나옴"
      ],
      "execution_count": 9,
      "outputs": [
        {
          "output_type": "stream",
          "text": [
            "2.5\n",
            "[2. 3.]\n",
            "[1.5 3.5]\n"
          ],
          "name": "stdout"
        }
      ]
    },
    {
      "metadata": {
        "id": "5JWPcQd2S8N1",
        "colab_type": "text"
      },
      "cell_type": "markdown",
      "source": [
        "## tf.reduce_sum 정리"
      ]
    },
    {
      "metadata": {
        "id": "DTZ7e2oHROGO",
        "colab_type": "code",
        "outputId": "29948f13-b3a9-457a-f71c-9a32085fc825",
        "colab": {
          "base_uri": "https://localhost:8080/",
          "height": 71
        }
      },
      "cell_type": "code",
      "source": [
        "# tf.reduce_sum 예제\n",
        "\n",
        "x = tf.constant([[1., 2.], [3., 8.]])\n",
        "a = tf.reduce_sum(x)    # 모든 element 를 다 더하기\n",
        "b = tf.reduce_sum(x, 0) # x 에서 0 번째 element 인 1 과 3 을 더하기\n",
        "c = tf.reduce_sum(x, 1) # x 에서 1 번째 element 인 1 과 3 을 더하기\n",
        "\n",
        "sess = tf.Session()\n",
        "sess.run(tf.global_variables_initializer())\n",
        "\n",
        "print( \"a=\", sess.run(a) )\n",
        "print( \"b=\", sess.run(b) )\n",
        "print( \"c=\", sess.run(c) )"
      ],
      "execution_count": 10,
      "outputs": [
        {
          "output_type": "stream",
          "text": [
            "a= 14.0\n",
            "b= [ 4. 10.]\n",
            "c= [ 3. 11.]\n"
          ],
          "name": "stdout"
        }
      ]
    },
    {
      "metadata": {
        "id": "_nn851YzVOcR",
        "colab_type": "code",
        "outputId": "402eda88-fda4-4d5c-f401-fa609364383a",
        "colab": {
          "base_uri": "https://localhost:8080/",
          "height": 71
        }
      },
      "cell_type": "code",
      "source": [
        "# tf.reduce_mean 예제\n",
        "\n",
        "x = tf.constant([[1., 2.], [3., 8.]])\n",
        "a = tf.reduce_mean(x)    # 모든 element 의 평균((1+2+3+8)/4 = 3.5\n",
        "b = tf.reduce_mean(x, 0)\n",
        "c = tf.reduce_mean(x, 1)\n",
        "\n",
        "sess = tf.Session()\n",
        "sess.run(tf.global_variables_initializer())\n",
        "\n",
        "print( \"a=\", sess.run(a) )\n",
        "print( \"b=\", sess.run(b) )\n",
        "print( \"c=\", sess.run(c) )"
      ],
      "execution_count": 11,
      "outputs": [
        {
          "output_type": "stream",
          "text": [
            "a= 3.5\n",
            "b= [2. 5.]\n",
            "c= [1.5 5.5]\n"
          ],
          "name": "stdout"
        }
      ]
    },
    {
      "metadata": {
        "id": "QIFY_8PcCdYR",
        "colab_type": "text"
      },
      "cell_type": "markdown",
      "source": [
        "## Preductui and Accuracy"
      ]
    },
    {
      "metadata": {
        "id": "Xwf8QatZCdCi",
        "colab_type": "code",
        "colab": {}
      },
      "cell_type": "code",
      "source": [
        "# Prediction\n",
        "pred = tf.equal(tf.argmax(actv,1), tf.argmax(y,1))\n",
        "\n",
        "# Accuracy\n",
        "accr = tf.reduce_mean(tf.cast(pred,\"float\"))\n",
        "\n",
        "# Initialized\n",
        "init = tf.global_variables_initializer()"
      ],
      "execution_count": 0,
      "outputs": []
    },
    {
      "metadata": {
        "id": "8FzI4xwAYLk4",
        "colab_type": "text"
      },
      "cell_type": "markdown",
      "source": [
        "## tf.equal 정리"
      ]
    },
    {
      "metadata": {
        "id": "GsKS2f5yYKBf",
        "colab_type": "code",
        "colab": {
          "base_uri": "https://localhost:8080/",
          "height": 35
        },
        "outputId": "c6d4b4df-80d2-449f-f0ff-fa06cc2f5e5f"
      },
      "cell_type": "code",
      "source": [
        "# tf.equal(x, y) : x, y를 비교하여 boolean 값을 반환\n",
        "\n",
        "x1 = tf.constant(1)\n",
        "y1 = tf.constant(1)\n",
        "\n",
        "prediction = tf.equal(x1,y1)\n",
        "\n",
        "print(sess.run(prediction))"
      ],
      "execution_count": 13,
      "outputs": [
        {
          "output_type": "stream",
          "text": [
            "True\n"
          ],
          "name": "stdout"
        }
      ]
    },
    {
      "metadata": {
        "id": "wtEsNiRJZKLe",
        "colab_type": "text"
      },
      "cell_type": "markdown",
      "source": [
        "## tf.case : 원하는 data type 으로 변환"
      ]
    },
    {
      "metadata": {
        "id": "8eCma0v3ZSvO",
        "colab_type": "code",
        "colab": {
          "base_uri": "https://localhost:8080/",
          "height": 35
        },
        "outputId": "31042c62-721d-4547-bd34-a545df1aba11"
      },
      "cell_type": "code",
      "source": [
        "# 위에서 prediction 은 True 라는 boolean 타입의 data 이다. 이것을 float 함수를 이용하여 숫자로 바꿀 수 있다.\n",
        "\n",
        "p = sess.run(tf.cast(prediction,\"float\"))\n",
        "print(p)"
      ],
      "execution_count": 14,
      "outputs": [
        {
          "output_type": "stream",
          "text": [
            "1.0\n"
          ],
          "name": "stdout"
        }
      ]
    },
    {
      "metadata": {
        "id": "q2cseA-1WQJQ",
        "colab_type": "text"
      },
      "cell_type": "markdown",
      "source": [
        "## argmax 정리"
      ]
    },
    {
      "metadata": {
        "id": "wSdte6oUWPDE",
        "colab_type": "code",
        "colab": {
          "base_uri": "https://localhost:8080/",
          "height": 35
        },
        "outputId": "0e1e0d11-342d-4174-e0b6-3649afff5e87"
      },
      "cell_type": "code",
      "source": [
        "# tf.argmax(X, a) : X 배열에서 가장 큰 값을 ‘열(1)’ 기준 몇번째인지 index를 반환\n",
        "\n",
        "x1 = [0,0,1,0]\n",
        "tf.argmax(x1).eval(session=sess)"
      ],
      "execution_count": 15,
      "outputs": [
        {
          "output_type": "execute_result",
          "data": {
            "text/plain": [
              "2"
            ]
          },
          "metadata": {
            "tags": []
          },
          "execution_count": 15
        }
      ]
    },
    {
      "metadata": {
        "id": "sF3LEyfkX-rk",
        "colab_type": "code",
        "colab": {
          "base_uri": "https://localhost:8080/",
          "height": 35
        },
        "outputId": "0511b203-759c-4b24-e3a0-c9025b2e83dc"
      },
      "cell_type": "code",
      "source": [
        "x1 = [[1,2],[3,4]]\n",
        "tf.argmax(x1,1).eval(session=sess)"
      ],
      "execution_count": 16,
      "outputs": [
        {
          "output_type": "execute_result",
          "data": {
            "text/plain": [
              "array([1, 1])"
            ]
          },
          "metadata": {
            "tags": []
          },
          "execution_count": 16
        }
      ]
    },
    {
      "metadata": {
        "id": "o84g2qNrDzdR",
        "colab_type": "text"
      },
      "cell_type": "markdown",
      "source": [
        "## Train model"
      ]
    },
    {
      "metadata": {
        "id": "J3VAXQWvWzWG",
        "colab_type": "code",
        "colab": {
          "base_uri": "https://localhost:8080/",
          "height": 215
        },
        "outputId": "04fe116e-4d52-46cb-a405-8fe5c8b6311d"
      },
      "cell_type": "code",
      "source": [
        "training_epochs = 50    # 총 50번 학습하자\n",
        "batch_size      = 100   # batch size 는 100 이므로 하자\n",
        "display_step    = 5\n",
        "\n",
        "# Session\n",
        "sess = tf.Session()\n",
        "sess.run(init)\n",
        "\n",
        "# mini-batch learning\n",
        "\n",
        "for epoch in range(training_epochs):\n",
        "  avg_cost = 0.\n",
        "  num_batch = int(mnist.train.num_examples/batch_size)\n",
        "  for i in range(num_batch):\n",
        "    batch_xs, batch_ys = mnist.train.next_batch(batch_size)\n",
        "    sess.run(optm, feed_dict={x:batch_xs, y:batch_ys})\n",
        "    feeds = {x:batch_xs, y:batch_ys}\n",
        "    avg_cost += sess.run(cost, feed_dict=feeds)/num_batch\n",
        "    \n",
        "  # display\n",
        "    \n",
        "  if epoch % display_step == 0:\n",
        "    feeds_train = {x:batch_xs, y:batch_ys}\n",
        "    feeds_test = {x:mnist.test.images, y:mnist.test.labels}\n",
        "    train_acc = sess.run(accr, feed_dict=feeds_train)\n",
        "    test_acc  = sess.run(accr, feed_dict=feeds_test)\n",
        "    print(\"Epoch: [%d/%d] cost: [%f] train_acc: [%f] test_acc: [%f]\" % (epoch, training_epochs, avg_cost, train_acc, test_acc))\n",
        "\n",
        "print(\"DONE\")"
      ],
      "execution_count": 24,
      "outputs": [
        {
          "output_type": "stream",
          "text": [
            "Epoch: [0/50] cost: [1.176905] train_acc: [0.890000] test_acc: [0.856100]\n",
            "Epoch: [5/50] cost: [0.440961] train_acc: [0.860000] test_acc: [0.894800]\n",
            "Epoch: [10/50] cost: [0.383336] train_acc: [0.880000] test_acc: [0.904900]\n",
            "Epoch: [15/50] cost: [0.357327] train_acc: [0.910000] test_acc: [0.909000]\n",
            "Epoch: [20/50] cost: [0.341431] train_acc: [0.930000] test_acc: [0.912400]\n",
            "Epoch: [25/50] cost: [0.330525] train_acc: [0.920000] test_acc: [0.915000]\n",
            "Epoch: [30/50] cost: [0.322370] train_acc: [0.970000] test_acc: [0.915800]\n",
            "Epoch: [35/50] cost: [0.315940] train_acc: [0.930000] test_acc: [0.917300]\n",
            "Epoch: [40/50] cost: [0.310747] train_acc: [0.910000] test_acc: [0.917800]\n",
            "Epoch: [45/50] cost: [0.306377] train_acc: [0.910000] test_acc: [0.918100]\n",
            "DONE\n"
          ],
          "name": "stdout"
        }
      ]
    },
    {
      "metadata": {
        "id": "r-K7cIS0VG30",
        "colab_type": "text"
      },
      "cell_type": "markdown",
      "source": [
        "## L^2 regulization 과 optimization = Adam 을 사용해 보기"
      ]
    },
    {
      "metadata": {
        "id": "SMPQ9mNvSS_I",
        "colab_type": "code",
        "colab": {}
      },
      "cell_type": "code",
      "source": [
        "x = tf.placeholder(\"float\", [None, 784])\n",
        "y = tf.placeholder(\"float\", [None, 10])\n",
        "W = tf.Variable(tf.zeros([784,10]))\n",
        "b = tf.Variable(tf.zeros([10]))\n",
        "\n",
        "# Logistic regression model\n",
        "actv = tf.nn.softmax(tf.matmul(x,W) + b) # 행렬 x와 W 를 곱해서, b 를 더한 결과는 [1,10] 행렬이 되는데 이것을 softmax 함수로 보낸 결과\n",
        "\n",
        "# Cost function\n",
        "cost = tf.reduce_mean(-tf.reduce_sum(y*tf.log(actv), reduction_indices = 1)) # axis 의 옛날 이름\n",
        "\n",
        "# Optimizer\n",
        "learning_rate = 0.01\n",
        "optm = tf.train.AdamOptimizer(learning_rate).minimize(cost) # gradient descent 를 이용하여 cost 를 minimize 하는 방향으로 학습"
      ],
      "execution_count": 0,
      "outputs": []
    },
    {
      "metadata": {
        "id": "3_gcBvGXdJHv",
        "colab_type": "code",
        "colab": {
          "base_uri": "https://localhost:8080/",
          "height": 2442
        },
        "outputId": "6864e858-a472-4718-f68f-febd6c01f9a5"
      },
      "cell_type": "code",
      "source": [
        "training_epochs = 50\n",
        "batch_size      = 100\n",
        "display_step    = 5\n",
        "\n",
        "# Session\n",
        "sess = tf.Session()\n",
        "sess.run(init)\n",
        "\n",
        "# mini-batch learning\n",
        "\n",
        "for epoch in range(training_epochs):\n",
        "  avg_cost = 0.\n",
        "  num_batch = int(mnist.train.num_examples/batch_size)\n",
        "  for i in range(num_batch):\n",
        "    batch_xs, batch_ys = mnist.train.next_batch(batch_size)\n",
        "    sess.run(optm, feed_dict={x:batch_xs, y:batch_ys})\n",
        "    feeds = {x:batch_xs, y:batch_ys}\n",
        "    avg_cost += sess.run(cost, feed_dict=feeds)/num_batch\n",
        "    \n",
        "  # display\n",
        "    \n",
        "  if epoch % display_step == 0:\n",
        "    feeds_train = {x:batch_xs, y:batch_ys}\n",
        "    feeds_test = {x:mnist.test.images, y:mnist.test.labels}\n",
        "    train_acc = sess.run(accr, feed_dict=feeds_train)\n",
        "    test_acc  = sess.run(accr, feed_dict=feeds_test)\n",
        "    print(\"Epoch: [%d/%d] cost: [%f] train_acc: [%f] test_acc: [%f]\" % (epoch, training_epochs, avg_cost, train_acc, test_acc))\n",
        "    print(\"DONE\")"
      ],
      "execution_count": 26,
      "outputs": [
        {
          "output_type": "error",
          "ename": "FailedPreconditionError",
          "evalue": "ignored",
          "traceback": [
            "\u001b[0;31m---------------------------------------------------------------------------\u001b[0m",
            "\u001b[0;31mFailedPreconditionError\u001b[0m                   Traceback (most recent call last)",
            "\u001b[0;32m/usr/local/lib/python3.6/dist-packages/tensorflow/python/client/session.py\u001b[0m in \u001b[0;36m_do_call\u001b[0;34m(self, fn, *args)\u001b[0m\n\u001b[1;32m   1333\u001b[0m     \u001b[0;32mtry\u001b[0m\u001b[0;34m:\u001b[0m\u001b[0;34m\u001b[0m\u001b[0m\n\u001b[0;32m-> 1334\u001b[0;31m       \u001b[0;32mreturn\u001b[0m \u001b[0mfn\u001b[0m\u001b[0;34m(\u001b[0m\u001b[0;34m*\u001b[0m\u001b[0margs\u001b[0m\u001b[0;34m)\u001b[0m\u001b[0;34m\u001b[0m\u001b[0m\n\u001b[0m\u001b[1;32m   1335\u001b[0m     \u001b[0;32mexcept\u001b[0m \u001b[0merrors\u001b[0m\u001b[0;34m.\u001b[0m\u001b[0mOpError\u001b[0m \u001b[0;32mas\u001b[0m \u001b[0me\u001b[0m\u001b[0;34m:\u001b[0m\u001b[0;34m\u001b[0m\u001b[0m\n",
            "\u001b[0;32m/usr/local/lib/python3.6/dist-packages/tensorflow/python/client/session.py\u001b[0m in \u001b[0;36m_run_fn\u001b[0;34m(feed_dict, fetch_list, target_list, options, run_metadata)\u001b[0m\n\u001b[1;32m   1318\u001b[0m       return self._call_tf_sessionrun(\n\u001b[0;32m-> 1319\u001b[0;31m           options, feed_dict, fetch_list, target_list, run_metadata)\n\u001b[0m\u001b[1;32m   1320\u001b[0m \u001b[0;34m\u001b[0m\u001b[0m\n",
            "\u001b[0;32m/usr/local/lib/python3.6/dist-packages/tensorflow/python/client/session.py\u001b[0m in \u001b[0;36m_call_tf_sessionrun\u001b[0;34m(self, options, feed_dict, fetch_list, target_list, run_metadata)\u001b[0m\n\u001b[1;32m   1406\u001b[0m         \u001b[0mself\u001b[0m\u001b[0;34m.\u001b[0m\u001b[0m_session\u001b[0m\u001b[0;34m,\u001b[0m \u001b[0moptions\u001b[0m\u001b[0;34m,\u001b[0m \u001b[0mfeed_dict\u001b[0m\u001b[0;34m,\u001b[0m \u001b[0mfetch_list\u001b[0m\u001b[0;34m,\u001b[0m \u001b[0mtarget_list\u001b[0m\u001b[0;34m,\u001b[0m\u001b[0;34m\u001b[0m\u001b[0m\n\u001b[0;32m-> 1407\u001b[0;31m         run_metadata)\n\u001b[0m\u001b[1;32m   1408\u001b[0m \u001b[0;34m\u001b[0m\u001b[0m\n",
            "\u001b[0;31mFailedPreconditionError\u001b[0m: Attempting to use uninitialized value Variable_6\n\t [[{{node Variable_6/read}} = Identity[T=DT_FLOAT, _class=[\"loc:@Adam/Assign_1\"], _device=\"/job:localhost/replica:0/task:0/device:CPU:0\"](Variable_6)]]",
            "\nDuring handling of the above exception, another exception occurred:\n",
            "\u001b[0;31mFailedPreconditionError\u001b[0m                   Traceback (most recent call last)",
            "\u001b[0;32m<ipython-input-26-4895eeb9fc80>\u001b[0m in \u001b[0;36m<module>\u001b[0;34m()\u001b[0m\n\u001b[1;32m     14\u001b[0m   \u001b[0;32mfor\u001b[0m \u001b[0mi\u001b[0m \u001b[0;32min\u001b[0m \u001b[0mrange\u001b[0m\u001b[0;34m(\u001b[0m\u001b[0mnum_batch\u001b[0m\u001b[0;34m)\u001b[0m\u001b[0;34m:\u001b[0m\u001b[0;34m\u001b[0m\u001b[0m\n\u001b[1;32m     15\u001b[0m     \u001b[0mbatch_xs\u001b[0m\u001b[0;34m,\u001b[0m \u001b[0mbatch_ys\u001b[0m \u001b[0;34m=\u001b[0m \u001b[0mmnist\u001b[0m\u001b[0;34m.\u001b[0m\u001b[0mtrain\u001b[0m\u001b[0;34m.\u001b[0m\u001b[0mnext_batch\u001b[0m\u001b[0;34m(\u001b[0m\u001b[0mbatch_size\u001b[0m\u001b[0;34m)\u001b[0m\u001b[0;34m\u001b[0m\u001b[0m\n\u001b[0;32m---> 16\u001b[0;31m     \u001b[0msess\u001b[0m\u001b[0;34m.\u001b[0m\u001b[0mrun\u001b[0m\u001b[0;34m(\u001b[0m\u001b[0moptm\u001b[0m\u001b[0;34m,\u001b[0m \u001b[0mfeed_dict\u001b[0m\u001b[0;34m=\u001b[0m\u001b[0;34m{\u001b[0m\u001b[0mx\u001b[0m\u001b[0;34m:\u001b[0m\u001b[0mbatch_xs\u001b[0m\u001b[0;34m,\u001b[0m \u001b[0my\u001b[0m\u001b[0;34m:\u001b[0m\u001b[0mbatch_ys\u001b[0m\u001b[0;34m}\u001b[0m\u001b[0;34m)\u001b[0m\u001b[0;34m\u001b[0m\u001b[0m\n\u001b[0m\u001b[1;32m     17\u001b[0m     \u001b[0mfeeds\u001b[0m \u001b[0;34m=\u001b[0m \u001b[0;34m{\u001b[0m\u001b[0mx\u001b[0m\u001b[0;34m:\u001b[0m\u001b[0mbatch_xs\u001b[0m\u001b[0;34m,\u001b[0m \u001b[0my\u001b[0m\u001b[0;34m:\u001b[0m\u001b[0mbatch_ys\u001b[0m\u001b[0;34m}\u001b[0m\u001b[0;34m\u001b[0m\u001b[0m\n\u001b[1;32m     18\u001b[0m     \u001b[0mavg_cost\u001b[0m \u001b[0;34m+=\u001b[0m \u001b[0msess\u001b[0m\u001b[0;34m.\u001b[0m\u001b[0mrun\u001b[0m\u001b[0;34m(\u001b[0m\u001b[0mcost\u001b[0m\u001b[0;34m,\u001b[0m \u001b[0mfeed_dict\u001b[0m\u001b[0;34m=\u001b[0m\u001b[0mfeeds\u001b[0m\u001b[0;34m)\u001b[0m\u001b[0;34m/\u001b[0m\u001b[0mnum_batch\u001b[0m\u001b[0;34m\u001b[0m\u001b[0m\n",
            "\u001b[0;32m/usr/local/lib/python3.6/dist-packages/tensorflow/python/client/session.py\u001b[0m in \u001b[0;36mrun\u001b[0;34m(self, fetches, feed_dict, options, run_metadata)\u001b[0m\n\u001b[1;32m    927\u001b[0m     \u001b[0;32mtry\u001b[0m\u001b[0;34m:\u001b[0m\u001b[0;34m\u001b[0m\u001b[0m\n\u001b[1;32m    928\u001b[0m       result = self._run(None, fetches, feed_dict, options_ptr,\n\u001b[0;32m--> 929\u001b[0;31m                          run_metadata_ptr)\n\u001b[0m\u001b[1;32m    930\u001b[0m       \u001b[0;32mif\u001b[0m \u001b[0mrun_metadata\u001b[0m\u001b[0;34m:\u001b[0m\u001b[0;34m\u001b[0m\u001b[0m\n\u001b[1;32m    931\u001b[0m         \u001b[0mproto_data\u001b[0m \u001b[0;34m=\u001b[0m \u001b[0mtf_session\u001b[0m\u001b[0;34m.\u001b[0m\u001b[0mTF_GetBuffer\u001b[0m\u001b[0;34m(\u001b[0m\u001b[0mrun_metadata_ptr\u001b[0m\u001b[0;34m)\u001b[0m\u001b[0;34m\u001b[0m\u001b[0m\n",
            "\u001b[0;32m/usr/local/lib/python3.6/dist-packages/tensorflow/python/client/session.py\u001b[0m in \u001b[0;36m_run\u001b[0;34m(self, handle, fetches, feed_dict, options, run_metadata)\u001b[0m\n\u001b[1;32m   1150\u001b[0m     \u001b[0;32mif\u001b[0m \u001b[0mfinal_fetches\u001b[0m \u001b[0;32mor\u001b[0m \u001b[0mfinal_targets\u001b[0m \u001b[0;32mor\u001b[0m \u001b[0;34m(\u001b[0m\u001b[0mhandle\u001b[0m \u001b[0;32mand\u001b[0m \u001b[0mfeed_dict_tensor\u001b[0m\u001b[0;34m)\u001b[0m\u001b[0;34m:\u001b[0m\u001b[0;34m\u001b[0m\u001b[0m\n\u001b[1;32m   1151\u001b[0m       results = self._do_run(handle, final_targets, final_fetches,\n\u001b[0;32m-> 1152\u001b[0;31m                              feed_dict_tensor, options, run_metadata)\n\u001b[0m\u001b[1;32m   1153\u001b[0m     \u001b[0;32melse\u001b[0m\u001b[0;34m:\u001b[0m\u001b[0;34m\u001b[0m\u001b[0m\n\u001b[1;32m   1154\u001b[0m       \u001b[0mresults\u001b[0m \u001b[0;34m=\u001b[0m \u001b[0;34m[\u001b[0m\u001b[0;34m]\u001b[0m\u001b[0;34m\u001b[0m\u001b[0m\n",
            "\u001b[0;32m/usr/local/lib/python3.6/dist-packages/tensorflow/python/client/session.py\u001b[0m in \u001b[0;36m_do_run\u001b[0;34m(self, handle, target_list, fetch_list, feed_dict, options, run_metadata)\u001b[0m\n\u001b[1;32m   1326\u001b[0m     \u001b[0;32mif\u001b[0m \u001b[0mhandle\u001b[0m \u001b[0;32mis\u001b[0m \u001b[0;32mNone\u001b[0m\u001b[0;34m:\u001b[0m\u001b[0;34m\u001b[0m\u001b[0m\n\u001b[1;32m   1327\u001b[0m       return self._do_call(_run_fn, feeds, fetches, targets, options,\n\u001b[0;32m-> 1328\u001b[0;31m                            run_metadata)\n\u001b[0m\u001b[1;32m   1329\u001b[0m     \u001b[0;32melse\u001b[0m\u001b[0;34m:\u001b[0m\u001b[0;34m\u001b[0m\u001b[0m\n\u001b[1;32m   1330\u001b[0m       \u001b[0;32mreturn\u001b[0m \u001b[0mself\u001b[0m\u001b[0;34m.\u001b[0m\u001b[0m_do_call\u001b[0m\u001b[0;34m(\u001b[0m\u001b[0m_prun_fn\u001b[0m\u001b[0;34m,\u001b[0m \u001b[0mhandle\u001b[0m\u001b[0;34m,\u001b[0m \u001b[0mfeeds\u001b[0m\u001b[0;34m,\u001b[0m \u001b[0mfetches\u001b[0m\u001b[0;34m)\u001b[0m\u001b[0;34m\u001b[0m\u001b[0m\n",
            "\u001b[0;32m/usr/local/lib/python3.6/dist-packages/tensorflow/python/client/session.py\u001b[0m in \u001b[0;36m_do_call\u001b[0;34m(self, fn, *args)\u001b[0m\n\u001b[1;32m   1346\u001b[0m           \u001b[0;32mpass\u001b[0m\u001b[0;34m\u001b[0m\u001b[0m\n\u001b[1;32m   1347\u001b[0m       \u001b[0mmessage\u001b[0m \u001b[0;34m=\u001b[0m \u001b[0merror_interpolation\u001b[0m\u001b[0;34m.\u001b[0m\u001b[0minterpolate\u001b[0m\u001b[0;34m(\u001b[0m\u001b[0mmessage\u001b[0m\u001b[0;34m,\u001b[0m \u001b[0mself\u001b[0m\u001b[0;34m.\u001b[0m\u001b[0m_graph\u001b[0m\u001b[0;34m)\u001b[0m\u001b[0;34m\u001b[0m\u001b[0m\n\u001b[0;32m-> 1348\u001b[0;31m       \u001b[0;32mraise\u001b[0m \u001b[0mtype\u001b[0m\u001b[0;34m(\u001b[0m\u001b[0me\u001b[0m\u001b[0;34m)\u001b[0m\u001b[0;34m(\u001b[0m\u001b[0mnode_def\u001b[0m\u001b[0;34m,\u001b[0m \u001b[0mop\u001b[0m\u001b[0;34m,\u001b[0m \u001b[0mmessage\u001b[0m\u001b[0;34m)\u001b[0m\u001b[0;34m\u001b[0m\u001b[0m\n\u001b[0m\u001b[1;32m   1349\u001b[0m \u001b[0;34m\u001b[0m\u001b[0m\n\u001b[1;32m   1350\u001b[0m   \u001b[0;32mdef\u001b[0m \u001b[0m_extend_graph\u001b[0m\u001b[0;34m(\u001b[0m\u001b[0mself\u001b[0m\u001b[0;34m)\u001b[0m\u001b[0;34m:\u001b[0m\u001b[0;34m\u001b[0m\u001b[0m\n",
            "\u001b[0;31mFailedPreconditionError\u001b[0m: Attempting to use uninitialized value Variable_6\n\t [[node Variable_6/read (defined at <ipython-input-25-81a678f34b65>:3)  = Identity[T=DT_FLOAT, _class=[\"loc:@Adam/Assign_1\"], _device=\"/job:localhost/replica:0/task:0/device:CPU:0\"](Variable_6)]]\n\nCaused by op 'Variable_6/read', defined at:\n  File \"/usr/lib/python3.6/runpy.py\", line 193, in _run_module_as_main\n    \"__main__\", mod_spec)\n  File \"/usr/lib/python3.6/runpy.py\", line 85, in _run_code\n    exec(code, run_globals)\n  File \"/usr/local/lib/python3.6/dist-packages/ipykernel_launcher.py\", line 16, in <module>\n    app.launch_new_instance()\n  File \"/usr/local/lib/python3.6/dist-packages/traitlets/config/application.py\", line 658, in launch_instance\n    app.start()\n  File \"/usr/local/lib/python3.6/dist-packages/ipykernel/kernelapp.py\", line 477, in start\n    ioloop.IOLoop.instance().start()\n  File \"/usr/local/lib/python3.6/dist-packages/tornado/ioloop.py\", line 888, in start\n    handler_func(fd_obj, events)\n  File \"/usr/local/lib/python3.6/dist-packages/tornado/stack_context.py\", line 277, in null_wrapper\n    return fn(*args, **kwargs)\n  File \"/usr/local/lib/python3.6/dist-packages/zmq/eventloop/zmqstream.py\", line 450, in _handle_events\n    self._handle_recv()\n  File \"/usr/local/lib/python3.6/dist-packages/zmq/eventloop/zmqstream.py\", line 480, in _handle_recv\n    self._run_callback(callback, msg)\n  File \"/usr/local/lib/python3.6/dist-packages/zmq/eventloop/zmqstream.py\", line 432, in _run_callback\n    callback(*args, **kwargs)\n  File \"/usr/local/lib/python3.6/dist-packages/tornado/stack_context.py\", line 277, in null_wrapper\n    return fn(*args, **kwargs)\n  File \"/usr/local/lib/python3.6/dist-packages/ipykernel/kernelbase.py\", line 283, in dispatcher\n    return self.dispatch_shell(stream, msg)\n  File \"/usr/local/lib/python3.6/dist-packages/ipykernel/kernelbase.py\", line 235, in dispatch_shell\n    handler(stream, idents, msg)\n  File \"/usr/local/lib/python3.6/dist-packages/ipykernel/kernelbase.py\", line 399, in execute_request\n    user_expressions, allow_stdin)\n  File \"/usr/local/lib/python3.6/dist-packages/ipykernel/ipkernel.py\", line 196, in do_execute\n    res = shell.run_cell(code, store_history=store_history, silent=silent)\n  File \"/usr/local/lib/python3.6/dist-packages/ipykernel/zmqshell.py\", line 533, in run_cell\n    return super(ZMQInteractiveShell, self).run_cell(*args, **kwargs)\n  File \"/usr/local/lib/python3.6/dist-packages/IPython/core/interactiveshell.py\", line 2718, in run_cell\n    interactivity=interactivity, compiler=compiler, result=result)\n  File \"/usr/local/lib/python3.6/dist-packages/IPython/core/interactiveshell.py\", line 2822, in run_ast_nodes\n    if self.run_code(code, result):\n  File \"/usr/local/lib/python3.6/dist-packages/IPython/core/interactiveshell.py\", line 2882, in run_code\n    exec(code_obj, self.user_global_ns, self.user_ns)\n  File \"<ipython-input-25-81a678f34b65>\", line 3, in <module>\n    W = tf.Variable(tf.zeros([784,10]))\n  File \"/usr/local/lib/python3.6/dist-packages/tensorflow/python/ops/variables.py\", line 183, in __call__\n    return cls._variable_v1_call(*args, **kwargs)\n  File \"/usr/local/lib/python3.6/dist-packages/tensorflow/python/ops/variables.py\", line 146, in _variable_v1_call\n    aggregation=aggregation)\n  File \"/usr/local/lib/python3.6/dist-packages/tensorflow/python/ops/variables.py\", line 125, in <lambda>\n    previous_getter = lambda **kwargs: default_variable_creator(None, **kwargs)\n  File \"/usr/local/lib/python3.6/dist-packages/tensorflow/python/ops/variable_scope.py\", line 2444, in default_variable_creator\n    expected_shape=expected_shape, import_scope=import_scope)\n  File \"/usr/local/lib/python3.6/dist-packages/tensorflow/python/ops/variables.py\", line 187, in __call__\n    return super(VariableMetaclass, cls).__call__(*args, **kwargs)\n  File \"/usr/local/lib/python3.6/dist-packages/tensorflow/python/ops/variables.py\", line 1329, in __init__\n    constraint=constraint)\n  File \"/usr/local/lib/python3.6/dist-packages/tensorflow/python/ops/variables.py\", line 1491, in _init_from_args\n    self._snapshot = array_ops.identity(self._variable, name=\"read\")\n  File \"/usr/local/lib/python3.6/dist-packages/tensorflow/python/ops/array_ops.py\", line 81, in identity\n    return gen_array_ops.identity(input, name=name)\n  File \"/usr/local/lib/python3.6/dist-packages/tensorflow/python/ops/gen_array_ops.py\", line 3454, in identity\n    \"Identity\", input=input, name=name)\n  File \"/usr/local/lib/python3.6/dist-packages/tensorflow/python/framework/op_def_library.py\", line 787, in _apply_op_helper\n    op_def=op_def)\n  File \"/usr/local/lib/python3.6/dist-packages/tensorflow/python/util/deprecation.py\", line 488, in new_func\n    return func(*args, **kwargs)\n  File \"/usr/local/lib/python3.6/dist-packages/tensorflow/python/framework/ops.py\", line 3274, in create_op\n    op_def=op_def)\n  File \"/usr/local/lib/python3.6/dist-packages/tensorflow/python/framework/ops.py\", line 1770, in __init__\n    self._traceback = tf_stack.extract_stack()\n\nFailedPreconditionError (see above for traceback): Attempting to use uninitialized value Variable_6\n\t [[node Variable_6/read (defined at <ipython-input-25-81a678f34b65>:3)  = Identity[T=DT_FLOAT, _class=[\"loc:@Adam/Assign_1\"], _device=\"/job:localhost/replica:0/task:0/device:CPU:0\"](Variable_6)]]\n"
          ]
        }
      ]
    },
    {
      "metadata": {
        "id": "gPutxcNmdUNA",
        "colab_type": "code",
        "colab": {}
      },
      "cell_type": "code",
      "source": [
        "class AdamOptimizer:\n",
        "    def __init__(self, weights, alpha=0.001, beta1=0.9, beta2=0.999, epsilon=1e-8):\n",
        "        self.alpha = alpha\n",
        "        self.beta1 = beta1\n",
        "        self.beta2 = beta2\n",
        "        self.epsilon = epsilon\n",
        "        self.m = 0\n",
        "        self.v = 0\n",
        "        self.t = 0\n",
        "        self.theta = weights\n",
        "\n",
        "    def backward_pass(self, gradient):\n",
        "        self.t = self.t + 1\n",
        "        self.m = self.beta1*self.m + (1 - self.beta1)*gradient\n",
        "        self.v = self.beta2*self.v + (1 - self.beta2)*(gradient**2)\n",
        "        m_hat = self.m/(1 - self.beta1**self.t)\n",
        "        v_hat = self.v/(1 - self.beta2**self.t)\n",
        "        self.theta = self.theta - self.alpha*(m_hat/(np.sqrt(v_hat) - self.epsilon))\n",
        "        return self.theta"
      ],
      "execution_count": 0,
      "outputs": []
    },
    {
      "metadata": {
        "id": "KO5B1Iw2s2fG",
        "colab_type": "code",
        "colab": {}
      },
      "cell_type": "code",
      "source": [
        ""
      ],
      "execution_count": 0,
      "outputs": []
    }
  ]
}